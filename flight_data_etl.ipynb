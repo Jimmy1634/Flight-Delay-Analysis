{
 "cells": [
  {
   "cell_type": "code",
   "execution_count": 0,
   "metadata": {
    "application/vnd.databricks.v1+cell": {
     "cellMetadata": {
      "byteLimit": 2048000,
      "rowLimit": 10000
     },
     "inputWidgets": {},
     "nuid": "085343aa-6b98-49b3-a109-0c1441303286",
     "showTitle": false,
     "tableResultSettingsMap": {},
     "title": ""
    }
   },
   "outputs": [],
   "source": [
    "#Storage Details\n",
    "storage_account_name = \"flightdatastore1634\"\n",
    "container_name = \"flightdata\"\n",
    "folder_path = \"flightdata/raw\"\n",
    "file_name = \"flight_data_2018_2024.csv\"\n",
    "sas_token = \"sp=racwdlmeop&st=2025-06-15T23:33:01Z&se=2025-06-16T07:33:01Z&spr=https&sv=2024-11-04&sr=c&sig=bvVVcNci%2B4SM8yZ91%2By1%2B0wiAltJh%2FV67CfM4ggZmoE%3D\"\n",
    "\n",
    "spark.conf.set(\n",
    "    f\"fs.azure.sas.{container_name}.{storage_account_name}.blob.core.windows.net\",\n",
    "    sas_token\n",
    ")\n",
    "\n",
    "file_path = f\"wasbs://{container_name}@{storage_account_name}.blob.core.windows.net/{folder_path}/{file_name}\"\n"
   ]
  },
  {
   "cell_type": "markdown",
   "metadata": {
    "application/vnd.databricks.v1+cell": {
     "cellMetadata": {},
     "inputWidgets": {},
     "nuid": "accf1899-3714-46c3-a9f1-de4bbdc2b51f",
     "showTitle": false,
     "tableResultSettingsMap": {},
     "title": ""
    }
   },
   "source": [
    "#Bronze Layer"
   ]
  },
  {
   "cell_type": "code",
   "execution_count": 0,
   "metadata": {
    "application/vnd.databricks.v1+cell": {
     "cellMetadata": {
      "byteLimit": 2048000,
      "rowLimit": 10000
     },
     "inputWidgets": {},
     "nuid": "03de5d37-3b0a-4241-af30-496146ddce1f",
     "showTitle": false,
     "tableResultSettingsMap": {},
     "title": ""
    }
   },
   "outputs": [
    {
     "output_type": "stream",
     "name": "stdout",
     "output_type": "stream",
     "text": [
      "+----+-------+-----+----------+---------+----------+-------------------------+---------------------------------------+------------------------+---------------------------+-------------------------------+---------------------------------------+----------------------------------------------+-------------------------------------------------+--------------------------------------------------+-----------------+------------------------+---------------------------+-----------+-------------------------------+---------------+------------------+------------------+------+--------------+-----------+---------------+---------------+---------+-------------+----------------+----------------+----+--------------+---------+-------------+-------------+-------+----------+-------+--------+---------------+--------+--------------------+----------+-------+---------+--------+------+----------+-------+--------+---------------+--------+------------------+----------+---------+----------------+--------+--------------+-----------------+-------+-------+--------+-------------+------------+------------+--------+-------------+-----------------+------------+-------------+---------------+------------------+--------------+--------------------+-----------+-----------+-----------+-------------+----------------+------------+--------------+----------------+-------------+-----------+-----------+-------------+----------------+------------+--------------+----------------+-------------+-----------+-----------+-------------+----------------+------------+--------------+----------------+-------------+-----------+-----------+-------------+----------------+------------+--------------+----------------+-------------+-----------+-----------+-------------+----------------+------------+--------------+----------------+-------------+-----------+---------+-----+\n|Year|Quarter|Month|DayofMonth|DayOfWeek|FlightDate|Marketing_Airline_Network|Operated_or_Branded_Code_Share_Partners|DOT_ID_Marketing_Airline|IATA_Code_Marketing_Airline|Flight_Number_Marketing_Airline|Originally_Scheduled_Code_Share_Airline|DOT_ID_Originally_Scheduled_Code_Share_Airline|IATA_Code_Originally_Scheduled_Code_Share_Airline|Flight_Num_Originally_Scheduled_Code_Share_Airline|Operating_Airline|DOT_ID_Operating_Airline|IATA_Code_Operating_Airline|Tail_Number|Flight_Number_Operating_Airline|OriginAirportID|OriginAirportSeqID|OriginCityMarketID|Origin|OriginCityName|OriginState|OriginStateFips|OriginStateName|OriginWac|DestAirportID|DestAirportSeqID|DestCityMarketID|Dest|  DestCityName|DestState|DestStateFips|DestStateName|DestWac|CRSDepTime|DepTime|DepDelay|DepDelayMinutes|DepDel15|DepartureDelayGroups|DepTimeBlk|TaxiOut|WheelsOff|WheelsOn|TaxiIn|CRSArrTime|ArrTime|ArrDelay|ArrDelayMinutes|ArrDel15|ArrivalDelayGroups|ArrTimeBlk|Cancelled|CancellationCode|Diverted|CRSElapsedTime|ActualElapsedTime|AirTime|Flights|Distance|DistanceGroup|CarrierDelay|WeatherDelay|NASDelay|SecurityDelay|LateAircraftDelay|FirstDepTime|TotalAddGTime|LongestAddGTime|DivAirportLandings|DivReachedDest|DivActualElapsedTime|DivArrDelay|DivDistance|Div1Airport|Div1AirportID|Div1AirportSeqID|Div1WheelsOn|Div1TotalGTime|Div1LongestGTime|Div1WheelsOff|Div1TailNum|Div2Airport|Div2AirportID|Div2AirportSeqID|Div2WheelsOn|Div2TotalGTime|Div2LongestGTime|Div2WheelsOff|Div2TailNum|Div3Airport|Div3AirportID|Div3AirportSeqID|Div3WheelsOn|Div3TotalGTime|Div3LongestGTime|Div3WheelsOff|Div3TailNum|Div4Airport|Div4AirportID|Div4AirportSeqID|Div4WheelsOn|Div4TotalGTime|Div4LongestGTime|Div4WheelsOff|Div4TailNum|Div5Airport|Div5AirportID|Div5AirportSeqID|Div5WheelsOn|Div5TotalGTime|Div5LongestGTime|Div5WheelsOff|Div5TailNum|Duplicate|_c119|\n+----+-------+-----+----------+---------+----------+-------------------------+---------------------------------------+------------------------+---------------------------+-------------------------------+---------------------------------------+----------------------------------------------+-------------------------------------------------+--------------------------------------------------+-----------------+------------------------+---------------------------+-----------+-------------------------------+---------------+------------------+------------------+------+--------------+-----------+---------------+---------------+---------+-------------+----------------+----------------+----+--------------+---------+-------------+-------------+-------+----------+-------+--------+---------------+--------+--------------------+----------+-------+---------+--------+------+----------+-------+--------+---------------+--------+------------------+----------+---------+----------------+--------+--------------+-----------------+-------+-------+--------+-------------+------------+------------+--------+-------------+-----------------+------------+-------------+---------------+------------------+--------------+--------------------+-----------+-----------+-----------+-------------+----------------+------------+--------------+----------------+-------------+-----------+-----------+-------------+----------------+------------+--------------+----------------+-------------+-----------+-----------+-------------+----------------+------------+--------------+----------------+-------------+-----------+-----------+-------------+----------------+------------+--------------+----------------+-------------+-----------+-----------+-------------+----------------+------------+--------------+----------------+-------------+-----------+---------+-----+\n|2024|      1|    1|        14|        7|2024-01-14|                       UA|                           UA_CODESHARE|                   19977|                         UA|                           4432|                                   NULL|                                          NULL|                                             NULL|                                              NULL|               G7|                   20500|                         G7|     N535GJ|                           4432|          13296|           1329605|             30721|   MHT|Manchester, NH|         NH|             33|  New Hampshire|       14|        11618|         1161802|           31703| EWR|    Newark, NJ|       NJ|           34|   New Jersey|     21|      1738|   1849|    71.0|           71.0|     1.0|                   4| 1700-1759|   24.0|     1913|    2001|   6.0|      1922|   2007|    45.0|           45.0|     1.0|                 3| 1900-1959|      0.0|            NULL|     0.0|         104.0|             78.0|   48.0|    1.0|   209.0|            1|         0.0|         0.0|     0.0|          0.0|             45.0|        NULL|         NULL|           NULL|                 0|          NULL|                NULL|       NULL|       NULL|       NULL|         NULL|            NULL|        NULL|          NULL|            NULL|         NULL|       NULL|       NULL|         NULL|            NULL|        NULL|          NULL|            NULL|         NULL|       NULL|       NULL|         NULL|            NULL|        NULL|          NULL|            NULL|         NULL|       NULL|       NULL|         NULL|            NULL|        NULL|          NULL|            NULL|         NULL|       NULL|       NULL|         NULL|            NULL|        NULL|          NULL|            NULL|         NULL|       NULL|        N| NULL|\n|2024|      1|    1|        14|        7|2024-01-14|                       UA|                           UA_CODESHARE|                   19977|                         UA|                           4430|                                   NULL|                                          NULL|                                             NULL|                                              NULL|               G7|                   20500|                         G7|     N535GJ|                           4430|          12264|           1226402|             30852|   IAD|Washington, DC|         VA|             51|       Virginia|       38|        11618|         1161802|           31703| EWR|    Newark, NJ|       NJ|           34|   New Jersey|     21|       815|    814|    -1.0|            0.0|     0.0|                  -1| 0800-0859|   58.0|      912|     953|   7.0|       934|   1000|    26.0|           26.0|     1.0|                 1| 0900-0959|      0.0|            NULL|     0.0|          79.0|            106.0|   41.0|    1.0|   212.0|            1|         0.0|         0.0|    26.0|          0.0|              0.0|        NULL|         NULL|           NULL|                 0|          NULL|                NULL|       NULL|       NULL|       NULL|         NULL|            NULL|        NULL|          NULL|            NULL|         NULL|       NULL|       NULL|         NULL|            NULL|        NULL|          NULL|            NULL|         NULL|       NULL|       NULL|         NULL|            NULL|        NULL|          NULL|            NULL|         NULL|       NULL|       NULL|         NULL|            NULL|        NULL|          NULL|            NULL|         NULL|       NULL|       NULL|         NULL|            NULL|        NULL|          NULL|            NULL|         NULL|       NULL|        N| NULL|\n|2024|      1|    1|        14|        7|2024-01-14|                       UA|                           UA_CODESHARE|                   19977|                         UA|                           4429|                                   NULL|                                          NULL|                                             NULL|                                              NULL|               G7|                   20500|                         G7|     N535GJ|                           4429|          11618|           1161802|             31703|   EWR|    Newark, NJ|         NJ|             34|     New Jersey|       21|        13296|         1329605|           30721| MHT|Manchester, NH|       NH|           33|New Hampshire|     14|      1540|   1654|    74.0|           74.0|     1.0|                   4| 1500-1559|   41.0|     1735|    1816|   6.0|      1656|   1822|    86.0|           86.0|     1.0|                 5| 1600-1659|      0.0|            NULL|     0.0|          76.0|             88.0|   41.0|    1.0|   209.0|            1|         0.0|        74.0|    12.0|          0.0|              0.0|        NULL|         NULL|           NULL|                 0|          NULL|                NULL|       NULL|       NULL|       NULL|         NULL|            NULL|        NULL|          NULL|            NULL|         NULL|       NULL|       NULL|         NULL|            NULL|        NULL|          NULL|            NULL|         NULL|       NULL|       NULL|         NULL|            NULL|        NULL|          NULL|            NULL|         NULL|       NULL|       NULL|         NULL|            NULL|        NULL|          NULL|            NULL|         NULL|       NULL|       NULL|         NULL|            NULL|        NULL|          NULL|            NULL|         NULL|       NULL|        N| NULL|\n|2024|      1|    1|        14|        7|2024-01-14|                       UA|                           UA_CODESHARE|                   19977|                         UA|                           4428|                                   NULL|                                          NULL|                                             NULL|                                              NULL|               G7|                   20500|                         G7|     N547GJ|                           4428|          15016|           1501606|             31123|   STL| St. Louis, MO|         MO|             29|       Missouri|       64|        13930|         1393008|           30977| ORD|   Chicago, IL|       IL|           17|     Illinois|     41|       630|    630|     0.0|            0.0|     0.0|                   0| 0600-0659|   47.0|      717|     808|  15.0|       758|    823|    25.0|           25.0|     1.0|                 1| 0700-0759|      0.0|            NULL|     0.0|          88.0|            113.0|   51.0|    1.0|   258.0|            2|         0.0|         0.0|    25.0|          0.0|              0.0|        NULL|         NULL|           NULL|                 0|          NULL|                NULL|       NULL|       NULL|       NULL|         NULL|            NULL|        NULL|          NULL|            NULL|         NULL|       NULL|       NULL|         NULL|            NULL|        NULL|          NULL|            NULL|         NULL|       NULL|       NULL|         NULL|            NULL|        NULL|          NULL|            NULL|         NULL|       NULL|       NULL|         NULL|            NULL|        NULL|          NULL|            NULL|         NULL|       NULL|       NULL|         NULL|            NULL|        NULL|          NULL|            NULL|         NULL|       NULL|        N| NULL|\n|2024|      1|    1|        14|        7|2024-01-14|                       UA|                           UA_CODESHARE|                   19977|                         UA|                           4427|                                   NULL|                                          NULL|                                             NULL|                                              NULL|               G7|                   20500|                         G7|     N504GJ|                           4427|          15016|           1501606|             31123|   STL| St. Louis, MO|         MO|             29|       Missouri|       64|        12264|         1226402|           30852| IAD|Washington, DC|       VA|           51|     Virginia|     38|      1300|   1333|    33.0|           33.0|     1.0|                   2| 1300-1359|   12.0|     1345|    1608|  13.0|      1603|   1621|    18.0|           18.0|     1.0|                 1| 1600-1659|      0.0|            NULL|     0.0|         123.0|            108.0|   83.0|    1.0|   696.0|            3|        18.0|         0.0|     0.0|          0.0|              0.0|        NULL|         NULL|           NULL|                 0|          NULL|                NULL|       NULL|       NULL|       NULL|         NULL|            NULL|        NULL|          NULL|            NULL|         NULL|       NULL|       NULL|         NULL|            NULL|        NULL|          NULL|            NULL|         NULL|       NULL|       NULL|         NULL|            NULL|        NULL|          NULL|            NULL|         NULL|       NULL|       NULL|         NULL|            NULL|        NULL|          NULL|            NULL|         NULL|       NULL|       NULL|         NULL|            NULL|        NULL|          NULL|            NULL|         NULL|       NULL|        N| NULL|\n+----+-------+-----+----------+---------+----------+-------------------------+---------------------------------------+------------------------+---------------------------+-------------------------------+---------------------------------------+----------------------------------------------+-------------------------------------------------+--------------------------------------------------+-----------------+------------------------+---------------------------+-----------+-------------------------------+---------------+------------------+------------------+------+--------------+-----------+---------------+---------------+---------+-------------+----------------+----------------+----+--------------+---------+-------------+-------------+-------+----------+-------+--------+---------------+--------+--------------------+----------+-------+---------+--------+------+----------+-------+--------+---------------+--------+------------------+----------+---------+----------------+--------+--------------+-----------------+-------+-------+--------+-------------+------------+------------+--------+-------------+-----------------+------------+-------------+---------------+------------------+--------------+--------------------+-----------+-----------+-----------+-------------+----------------+------------+--------------+----------------+-------------+-----------+-----------+-------------+----------------+------------+--------------+----------------+-------------+-----------+-----------+-------------+----------------+------------+--------------+----------------+-------------+-----------+-----------+-------------+----------------+------------+--------------+----------------+-------------+-----------+-----------+-------------+----------------+------------+--------------+----------------+-------------+-----------+---------+-----+\nonly showing top 5 rows\n"
     ]
    },
    {
     "output_type": "execute_result",
     "data": {
      "text/plain": [
       "582425"
      ]
     },
     "execution_count": 6,
     "metadata": {},
     "output_type": "execute_result"
    }
   ],
   "source": [
    "from pyspark.sql.functions import col\n",
    "\n",
    "df = spark.read.option(\"header\", \"true\").option(\"inferSchema\", \"true\").csv(file_path)\n",
    "\n",
    "# Strip Whitespace\n",
    "new_columns = [c.strip() for c in df.columns]\n",
    "df_clean = df.toDF(*new_columns)\n",
    "\n",
    "df_clean.show(5)\n",
    "df.count()"
   ]
  },
  {
   "cell_type": "code",
   "execution_count": 0,
   "metadata": {
    "application/vnd.databricks.v1+cell": {
     "cellMetadata": {
      "byteLimit": 2048000,
      "rowLimit": 10000
     },
     "inputWidgets": {},
     "nuid": "67cd6610-92ca-407b-85bc-80768d75a439",
     "showTitle": false,
     "tableResultSettingsMap": {},
     "title": ""
    }
   },
   "outputs": [],
   "source": [
    "mount_point = \"/mnt/flightdata\"\n",
    "\n",
    "#DELTA PATH FOR BRONZE LAYER\n",
    "delta_bronze_path = f\"{mount_point}/bronze/bronze_flight_delays\"\n",
    "\n",
    "df_clean.write.format(\"delta\").mode(\"overwrite\").save(delta_bronze_path)"
   ]
  },
  {
   "cell_type": "markdown",
   "metadata": {
    "application/vnd.databricks.v1+cell": {
     "cellMetadata": {},
     "inputWidgets": {},
     "nuid": "d2e63807-5e6c-402e-9fd7-6a3532da4923",
     "showTitle": false,
     "tableResultSettingsMap": {},
     "title": ""
    }
   },
   "source": [
    "#Silver Layer"
   ]
  },
  {
   "cell_type": "code",
   "execution_count": 0,
   "metadata": {
    "application/vnd.databricks.v1+cell": {
     "cellMetadata": {
      "byteLimit": 2048000,
      "rowLimit": 10000
     },
     "inputWidgets": {},
     "nuid": "d35c1f39-2e93-4c41-bac2-2f57cb13792e",
     "showTitle": false,
     "tableResultSettingsMap": {},
     "title": ""
    }
   },
   "outputs": [
    {
     "output_type": "stream",
     "name": "stdout",
     "output_type": "stream",
     "text": [
      "+----+-------+-----+----------+---------+----------+-------------------------+---------------------------------------+------------------------+---------------------------+-------------------------------+---------------------------------------+----------------------------------------------+-------------------------------------------------+--------------------------------------------------+-----------------+------------------------+---------------------------+-----------+-------------------------------+---------------+------------------+------------------+------+---------------+-----------+---------------+---------------+---------+-------------+----------------+----------------+----+-------------------+---------+-------------+-------------+-------+----------+-------+--------+---------------+--------+--------------------+----------+-------+---------+--------+------+----------+-------+--------+---------------+--------+------------------+----------+---------+----------------+--------+--------------+-----------------+-------+-------+--------+-------------+------------+------------+--------+-------------+-----------------+------------+-------------+---------------+------------------+--------------+--------------------+-----------+-----------+-----------+-------------+----------------+------------+--------------+----------------+-------------+-----------+-----------+-------------+----------------+------------+--------------+----------------+-------------+-----------+-----------+-------------+----------------+------------+--------------+----------------+-------------+-----------+-----------+-------------+----------------+------------+--------------+----------------+-------------+-----------+-----------+-------------+----------------+------------+--------------+----------------+-------------+-----------+---------+-----+---------+-------------------+\n|Year|Quarter|Month|DayofMonth|DayOfWeek|FlightDate|Marketing_Airline_Network|Operated_or_Branded_Code_Share_Partners|DOT_ID_Marketing_Airline|IATA_Code_Marketing_Airline|Flight_Number_Marketing_Airline|Originally_Scheduled_Code_Share_Airline|DOT_ID_Originally_Scheduled_Code_Share_Airline|IATA_Code_Originally_Scheduled_Code_Share_Airline|Flight_Num_Originally_Scheduled_Code_Share_Airline|Operating_Airline|DOT_ID_Operating_Airline|IATA_Code_Operating_Airline|Tail_Number|Flight_Number_Operating_Airline|OriginAirportID|OriginAirportSeqID|OriginCityMarketID|Origin| OriginCityName|OriginState|OriginStateFips|OriginStateName|OriginWac|DestAirportID|DestAirportSeqID|DestCityMarketID|Dest|       DestCityName|DestState|DestStateFips|DestStateName|DestWac|CRSDepTime|DepTime|DepDelay|DepDelayMinutes|DepDel15|DepartureDelayGroups|DepTimeBlk|TaxiOut|WheelsOff|WheelsOn|TaxiIn|CRSArrTime|ArrTime|ArrDelay|ArrDelayMinutes|ArrDel15|ArrivalDelayGroups|ArrTimeBlk|Cancelled|CancellationCode|Diverted|CRSElapsedTime|ActualElapsedTime|AirTime|Flights|Distance|DistanceGroup|CarrierDelay|WeatherDelay|NASDelay|SecurityDelay|LateAircraftDelay|FirstDepTime|TotalAddGTime|LongestAddGTime|DivAirportLandings|DivReachedDest|DivActualElapsedTime|DivArrDelay|DivDistance|Div1Airport|Div1AirportID|Div1AirportSeqID|Div1WheelsOn|Div1TotalGTime|Div1LongestGTime|Div1WheelsOff|Div1TailNum|Div2Airport|Div2AirportID|Div2AirportSeqID|Div2WheelsOn|Div2TotalGTime|Div2LongestGTime|Div2WheelsOff|Div2TailNum|Div3Airport|Div3AirportID|Div3AirportSeqID|Div3WheelsOn|Div3TotalGTime|Div3LongestGTime|Div3WheelsOff|Div3TailNum|Div4Airport|Div4AirportID|Div4AirportSeqID|Div4WheelsOn|Div4TotalGTime|Div4LongestGTime|Div4WheelsOff|Div4TailNum|Div5Airport|Div5AirportID|Div5AirportSeqID|Div5WheelsOn|Div5TotalGTime|Div5LongestGTime|Div5WheelsOff|Div5TailNum|Duplicate|_c119|YearMonth|       FlightDateTS|\n+----+-------+-----+----------+---------+----------+-------------------------+---------------------------------------+------------------------+---------------------------+-------------------------------+---------------------------------------+----------------------------------------------+-------------------------------------------------+--------------------------------------------------+-----------------+------------------------+---------------------------+-----------+-------------------------------+---------------+------------------+------------------+------+---------------+-----------+---------------+---------------+---------+-------------+----------------+----------------+----+-------------------+---------+-------------+-------------+-------+----------+-------+--------+---------------+--------+--------------------+----------+-------+---------+--------+------+----------+-------+--------+---------------+--------+------------------+----------+---------+----------------+--------+--------------+-----------------+-------+-------+--------+-------------+------------+------------+--------+-------------+-----------------+------------+-------------+---------------+------------------+--------------+--------------------+-----------+-----------+-----------+-------------+----------------+------------+--------------+----------------+-------------+-----------+-----------+-------------+----------------+------------+--------------+----------------+-------------+-----------+-----------+-------------+----------------+------------+--------------+----------------+-------------+-----------+-----------+-------------+----------------+------------+--------------+----------------+-------------+-----------+-----------+-------------+----------------+------------+--------------+----------------+-------------+-----------+---------+-----+---------+-------------------+\n|2024|      1|    1|        12|        5|2024-01-12|                       NK|                                     NK|                   20416|                         NK|                            841|                                   NULL|                                          NULL|                                             NULL|                                              NULL|               NK|                   20416|                         NK|     N607NK|                            841|          14524|           1452401|             34524|   RIC|   Richmond, VA|         VA|             51|       Virginia|       38|        13204|         1320402|           31454| MCO|        Orlando, FL|       FL|           12|      Florida|     33|      2010|   2051|    41.0|             41|     1.0|                   2| 2000-2059|   10.0|     2101|    2248|  24.0|      2230|   2312|    42.0|             42|     1.0|                 2| 2200-2259|      0.0|            NULL|     0.0|         140.0|            141.0|  107.0|    1.0|   667.0|            3|         4.0|         0.0|     1.0|          0.0|             37.0|        NULL|         NULL|           NULL|                 0|          NULL|                NULL|       NULL|       NULL|       NULL|         NULL|            NULL|        NULL|          NULL|            NULL|         NULL|       NULL|       NULL|         NULL|            NULL|        NULL|          NULL|            NULL|         NULL|       NULL|       NULL|         NULL|            NULL|        NULL|          NULL|            NULL|         NULL|       NULL|       NULL|         NULL|            NULL|        NULL|          NULL|            NULL|         NULL|       NULL|       NULL|         NULL|            NULL|        NULL|          NULL|            NULL|         NULL|       NULL|        N| NULL|  2024-01|2024-01-12 00:00:00|\n|2024|      1|    1|        14|        7|2024-01-14|                       NK|                                     NK|                   20416|                         NK|                            863|                                   NULL|                                          NULL|                                             NULL|                                              NULL|               NK|                   20416|                         NK|     N981NK|                            863|          12898|           1289806|             32898|   LBE|    Latrobe, PA|         PA|             42|   Pennsylvania|       23|        13204|         1320402|           31454| MCO|        Orlando, FL|       FL|           12|      Florida|     33|      1340|   1336|    -4.0|              0|     0.0|                  -1| 1300-1359|    9.0|     1345|    1550|  14.0|      1617|   1604|   -13.0|              0|     0.0|                -1| 1600-1659|      0.0|            NULL|     0.0|         157.0|            148.0|  125.0|    1.0|   823.0|            4|        NULL|        NULL|    NULL|         NULL|             NULL|        NULL|         NULL|           NULL|                 0|          NULL|                NULL|       NULL|       NULL|       NULL|         NULL|            NULL|        NULL|          NULL|            NULL|         NULL|       NULL|       NULL|         NULL|            NULL|        NULL|          NULL|            NULL|         NULL|       NULL|       NULL|         NULL|            NULL|        NULL|          NULL|            NULL|         NULL|       NULL|       NULL|         NULL|            NULL|        NULL|          NULL|            NULL|         NULL|       NULL|       NULL|         NULL|            NULL|        NULL|          NULL|            NULL|         NULL|       NULL|        N| NULL|  2024-01|2024-01-14 00:00:00|\n|2024|      1|    1|        20|        6|2024-01-20|                       NK|                                     NK|                   20416|                         NK|                            870|                                   NULL|                                          NULL|                                             NULL|                                              NULL|               NK|                   20416|                         NK|     N967NK|                            870|          14908|           1490803|             32575|   SNA|  Santa Ana, CA|         CA|              6|     California|       91|        12889|         1288904|           32211| LAS|      Las Vegas, NV|       NV|           32|       Nevada|     85|       645|    638|    -7.0|              0|     0.0|                  -1| 0600-0659|   22.0|      700|     744|   4.0|       759|    748|   -11.0|              0|     0.0|                -1| 0700-0759|      0.0|            NULL|     0.0|          74.0|             70.0|   44.0|    1.0|   226.0|            1|        NULL|        NULL|    NULL|         NULL|             NULL|        NULL|         NULL|           NULL|                 0|          NULL|                NULL|       NULL|       NULL|       NULL|         NULL|            NULL|        NULL|          NULL|            NULL|         NULL|       NULL|       NULL|         NULL|            NULL|        NULL|          NULL|            NULL|         NULL|       NULL|       NULL|         NULL|            NULL|        NULL|          NULL|            NULL|         NULL|       NULL|       NULL|         NULL|            NULL|        NULL|          NULL|            NULL|         NULL|       NULL|       NULL|         NULL|            NULL|        NULL|          NULL|            NULL|         NULL|       NULL|        N| NULL|  2024-01|2024-01-20 00:00:00|\n|2024|      1|    1|         9|        2|2024-01-09|                       NK|                                     NK|                   20416|                         NK|                            888|                                   NULL|                                          NULL|                                             NULL|                                              NULL|               NK|                   20416|                         NK|     N710NK|                            888|          12892|           1289208|             32575|   LAX|Los Angeles, CA|         CA|              6|     California|       91|        11066|         1106606|           31066| CMH|       Columbus, OH|       OH|           39|         Ohio|     44|       550|    542|    -8.0|              0|     0.0|                  -1| 0001-0559|   13.0|      555|    1246|   6.0|      1301|   1252|    -9.0|              0|     0.0|                -1| 1300-1359|      0.0|            NULL|     0.0|         251.0|            250.0|  231.0|    1.0|  1995.0|            8|        NULL|        NULL|    NULL|         NULL|             NULL|        NULL|         NULL|           NULL|                 0|          NULL|                NULL|       NULL|       NULL|       NULL|         NULL|            NULL|        NULL|          NULL|            NULL|         NULL|       NULL|       NULL|         NULL|            NULL|        NULL|          NULL|            NULL|         NULL|       NULL|       NULL|         NULL|            NULL|        NULL|          NULL|            NULL|         NULL|       NULL|       NULL|         NULL|            NULL|        NULL|          NULL|            NULL|         NULL|       NULL|       NULL|         NULL|            NULL|        NULL|          NULL|            NULL|         NULL|       NULL|        N| NULL|  2024-01|2024-01-09 00:00:00|\n|2024|      1|    1|        17|        3|2024-01-17|                       NK|                                     NK|                   20416|                         NK|                            993|                                   NULL|                                          NULL|                                             NULL|                                              NULL|               NK|                   20416|                         NK|     N955NK|                            993|          11618|           1161802|             31703|   EWR|     Newark, NJ|         NJ|             34|     New Jersey|       21|        11697|         1169706|           32467| FLL|Fort Lauderdale, FL|       FL|           12|      Florida|     33|      1154|   1203|     9.0|              9|     0.0|                   0| 1100-1159|   15.0|     1218|    1505|   7.0|      1507|   1512|     5.0|              5|     0.0|                 0| 1500-1559|      0.0|            NULL|     0.0|         193.0|            189.0|  167.0|    1.0|  1065.0|            5|        NULL|        NULL|    NULL|         NULL|             NULL|        NULL|         NULL|           NULL|                 0|          NULL|                NULL|       NULL|       NULL|       NULL|         NULL|            NULL|        NULL|          NULL|            NULL|         NULL|       NULL|       NULL|         NULL|            NULL|        NULL|          NULL|            NULL|         NULL|       NULL|       NULL|         NULL|            NULL|        NULL|          NULL|            NULL|         NULL|       NULL|       NULL|         NULL|            NULL|        NULL|          NULL|            NULL|         NULL|       NULL|       NULL|         NULL|            NULL|        NULL|          NULL|            NULL|         NULL|       NULL|        N| NULL|  2024-01|2024-01-17 00:00:00|\n+----+-------+-----+----------+---------+----------+-------------------------+---------------------------------------+------------------------+---------------------------+-------------------------------+---------------------------------------+----------------------------------------------+-------------------------------------------------+--------------------------------------------------+-----------------+------------------------+---------------------------+-----------+-------------------------------+---------------+------------------+------------------+------+---------------+-----------+---------------+---------------+---------+-------------+----------------+----------------+----+-------------------+---------+-------------+-------------+-------+----------+-------+--------+---------------+--------+--------------------+----------+-------+---------+--------+------+----------+-------+--------+---------------+--------+------------------+----------+---------+----------------+--------+--------------+-----------------+-------+-------+--------+-------------+------------+------------+--------+-------------+-----------------+------------+-------------+---------------+------------------+--------------+--------------------+-----------+-----------+-----------+-------------+----------------+------------+--------------+----------------+-------------+-----------+-----------+-------------+----------------+------------+--------------+----------------+-------------+-----------+-----------+-------------+----------------+------------+--------------+----------------+-------------+-----------+-----------+-------------+----------------+------------+--------------+----------------+-------------+-----------+-----------+-------------+----------------+------------+--------------+----------------+-------------+-----------+---------+-----+---------+-------------------+\nonly showing top 5 rows\nTotal rows in silver table: 455441\n"
     ]
    }
   ],
   "source": [
    "from pyspark.sql.functions import col, to_date, date_format, to_timestamp, when\n",
    "\n",
    "bronze_path = f\"{mount_point}/bronze/bronze_flight_delays\"\n",
    "df_bronze = spark.read.format(\"delta\").load(bronze_path)\n",
    "\n",
    "# Remove duplicates based on key columns\n",
    "df_silver = df_bronze.dropDuplicates([\"FlightDate\", \"Flight_Number_Marketing_Airline\", \"IATA_Code_Marketing_Airline\"])\n",
    "\n",
    "# Filter out canceled and diverted flights\n",
    "df_silver = df_silver.filter((col(\"Cancelled\") == 0) & (col(\"Diverted\") == 0))\n",
    "\n",
    "# Convert FlightDate to date and create YearMonth string\n",
    "df_silver = df_silver.withColumn(\"FlightDate\", to_date(\"FlightDate\", \"yyyy-MM-dd\")) \\\n",
    "                     .withColumn(\"YearMonth\", date_format(\"FlightDate\", \"yyyy-MM\"))\n",
    "\n",
    "# Convert DepDelayMinutes and ArrDelayMinutes to int\n",
    "df_silver = df_silver.withColumn(\n",
    "    \"DepDelayMinutes\",\n",
    "    when(col(\"DepDelayMinutes\").isNull(), 0).otherwise(col(\"DepDelayMinutes\").cast(\"int\"))\n",
    ").withColumn(\n",
    "    \"ArrDelayMinutes\",\n",
    "    when(col(\"ArrDelayMinutes\").isNull(), 0).otherwise(col(\"ArrDelayMinutes\").cast(\"int\"))\n",
    ")\n",
    "\n",
    "# Add timestamp version of FlightDate for time-based analysis\n",
    "df_silver = df_silver.withColumn(\"FlightDateTS\", to_timestamp(col(\"FlightDate\"), \"yyyy-MM-dd\"))\n",
    "\n",
    "# Save silver table with schema merge enabled\n",
    "silver_path = f\"{mount_point}/silver/silver_flight_delays\"\n",
    "df_silver.write.format(\"delta\").mode(\"overwrite\").option(\"mergeSchema\", \"true\").save(silver_path)\n",
    "\n",
    "df_silver.show(5)\n",
    "print(f\"Total rows in silver table: {df_silver.count()}\")\n"
   ]
  },
  {
   "cell_type": "markdown",
   "metadata": {
    "application/vnd.databricks.v1+cell": {
     "cellMetadata": {},
     "inputWidgets": {},
     "nuid": "a131ddca-57d7-4802-9618-6858e2a6ea13",
     "showTitle": false,
     "tableResultSettingsMap": {},
     "title": ""
    }
   },
   "source": [
    "Gold Layer"
   ]
  },
  {
   "cell_type": "code",
   "execution_count": 0,
   "metadata": {
    "application/vnd.databricks.v1+cell": {
     "cellMetadata": {
      "byteLimit": 2048000,
      "rowLimit": 10000
     },
     "inputWidgets": {},
     "nuid": "b895a654-69b5-4bcc-b738-953037806a94",
     "showTitle": false,
     "tableResultSettingsMap": {},
     "title": ""
    }
   },
   "outputs": [],
   "source": [
    "from pyspark.sql.functions import col, avg, count, sum, when, round, to_date, date_format\n",
    "\n",
    "silver_path = f\"{mount_point}/silver/silver_flight_delays\"\n",
    "df_silver = spark.read.format(\"delta\").load(silver_path)\n"
   ]
  },
  {
   "cell_type": "code",
   "execution_count": 0,
   "metadata": {
    "application/vnd.databricks.v1+cell": {
     "cellMetadata": {
      "byteLimit": 2048000,
      "rowLimit": 10000
     },
     "inputWidgets": {},
     "nuid": "5b315cbf-7908-421a-a065-17ee4e99742b",
     "showTitle": false,
     "tableResultSettingsMap": {},
     "title": ""
    }
   },
   "outputs": [],
   "source": [
    "# 1. Flight Delay Distribution by Airline (Operating Airline)\n",
    "gold_delay_dist = df_silver.groupBy(\"IATA_Code_Operating_Airline\", \"DepDel15\") \\\n",
    "    .agg(round(avg(\"ArrDelayMinutes\"), 2).alias(\"AvgArrDelayMinutes\")) \\\n",
    "    .orderBy(\"IATA_Code_Operating_Airline\", \"DepDel15\")\n",
    "\n",
    "# 2. Delay Trend Over Time (Daily averages)\n",
    "gold_delay_trend = df_silver.groupBy(\"FlightDate\") \\\n",
    "    .agg(\n",
    "        round(avg(\"ArrDelayMinutes\"), 2).alias(\"AvgArrDelayMinutes\"),\n",
    "        round(avg(\"DepDelayMinutes\"), 2).alias(\"AvgDepDelayMinutes\")\n",
    "    ) \\\n",
    "    .orderBy(\"FlightDate\")\n",
    "\n",
    "# 3. Cancellation Rate by Reason (Marketing Airline Network)\n",
    "gold_cancellation_reason = df_silver.filter(col(\"Cancelled\") == 1) \\\n",
    "    .groupBy(\"Marketing_Airline_Network\", \"CancellationCode\") \\\n",
    "    .agg(count(\"*\").alias(\"CancellationCount\")) \\\n",
    "    .orderBy(\"Marketing_Airline_Network\", \"CancellationCode\")\n",
    "\n",
    "# 4. Most Frequent Routes\n",
    "gold_routes = df_silver.groupBy(\"Origin\", \"Dest\") \\\n",
    "    .agg(count(\"*\").alias(\"FlightCount\")) \\\n",
    "    .orderBy(\"FlightCount\", ascending=False)\n",
    "\n",
    "# 5. Geographic View of Average Delays (by OriginCityName)\n",
    "gold_geo_delays = df_silver.groupBy(\"OriginCityName\") \\\n",
    "    .agg(\n",
    "        count(\"*\").alias(\"FlightCount\"),\n",
    "        round(avg(\"ArrDelayMinutes\"), 2).alias(\"AvgArrDelayMinutes\")\n",
    "    ) \\\n",
    "    .orderBy(\"OriginCityName\")\n",
    "\n",
    "# 6. Monthly Aggregated Delay Metrics\n",
    "df_silver = df_silver.withColumn(\"YearMonth\", date_format(\"FlightDate\", \"yyyy-MM\"))\n",
    "gold_monthly_metrics = df_silver.groupBy(\"YearMonth\") \\\n",
    "    .agg(\n",
    "        round(avg(\"DepDelayMinutes\"), 2).alias(\"AvgDepDelayMinutes\"),\n",
    "        round(avg(\"ArrDelayMinutes\"), 2).alias(\"AvgArrDelayMinutes\"),\n",
    "        round(avg(\"TaxiOut\"), 2).alias(\"AvgTaxiOut\"),\n",
    "        round(avg(\"TaxiIn\"), 2).alias(\"AvgTaxiIn\")\n",
    "    ) \\\n",
    "    .orderBy(\"YearMonth\")\n"
   ]
  },
  {
   "cell_type": "code",
   "execution_count": 0,
   "metadata": {
    "application/vnd.databricks.v1+cell": {
     "cellMetadata": {
      "byteLimit": 2048000,
      "rowLimit": 10000
     },
     "inputWidgets": {},
     "nuid": "c1184c3a-3b86-45e3-80af-7cd9cbd48825",
     "showTitle": false,
     "tableResultSettingsMap": {},
     "title": ""
    }
   },
   "outputs": [
    {
     "output_type": "stream",
     "name": "stdout",
     "output_type": "stream",
     "text": [
      "+------+-----------------+\n|Origin|      AvgArrDelay|\n+------+-----------------+\n|   CKB|             86.2|\n|   ELM|          85.1875|\n|   PLN|85.10526315789474|\n|   MQT|80.72972972972973|\n|   ALO| 73.3529411764706|\n|   FSM|69.97872340425532|\n|   ART|69.58536585365853|\n|   STC|69.11111111111111|\n|   SMX|67.33333333333333|\n|   MLI|65.58646616541354|\n+------+-----------------+\n\n+------+------------------+\n|Origin|       AvgDepDelay|\n+------+------------------+\n|   ELM|            88.125|\n|   CKB|              86.0|\n|   PLN| 85.26315789473684|\n|   MQT| 81.67567567567568|\n|   ALO| 73.50980392156863|\n|   STC| 71.61111111111111|\n|   SMX| 69.66666666666667|\n|   FSM| 64.70212765957447|\n|   MLI| 62.11654135338346|\n|   CIU|61.666666666666664|\n+------+------------------+\n\n"
     ]
    }
   ],
   "source": [
    "from pyspark.sql.functions import avg, desc\n",
    "\n",
    "# Average arrival delay by Origin airport\n",
    "top10_arrival_delays = (\n",
    "    df_silver.groupBy(\"Origin\")\n",
    "    .agg(avg(\"ArrDelayMinutes\").alias(\"AvgArrDelay\"))\n",
    "    .orderBy(desc(\"AvgArrDelay\"))\n",
    "    .limit(10)\n",
    ")\n",
    "\n",
    "# Average departure delay by Origin airport\n",
    "top10_departure_delays = (\n",
    "    df_silver.groupBy(\"Origin\")\n",
    "    .agg(avg(\"DepDelayMinutes\").alias(\"AvgDepDelay\"))\n",
    "    .orderBy(desc(\"AvgDepDelay\"))\n",
    "    .limit(10)\n",
    ")\n",
    "\n",
    "top10_arrival_delays.show()\n",
    "top10_departure_delays.show()\n"
   ]
  },
  {
   "cell_type": "code",
   "execution_count": 0,
   "metadata": {
    "application/vnd.databricks.v1+cell": {
     "cellMetadata": {
      "byteLimit": 2048000,
      "rowLimit": 10000
     },
     "inputWidgets": {},
     "nuid": "eba25ce6-3e85-4d6d-8ad7-627c9dbcea10",
     "showTitle": false,
     "tableResultSettingsMap": {},
     "title": ""
    }
   },
   "outputs": [
    {
     "output_type": "stream",
     "name": "stdout",
     "output_type": "stream",
     "text": [
      "+---------------------------+-----------------+\n|IATA_Code_Operating_Airline| PctOnTimeArrival|\n+---------------------------+-----------------+\n|                         YX|83.58105956046289|\n|                         PT|82.06002728512959|\n|                         DL|81.95449844881075|\n|                         G7|81.05503423788993|\n|                         C5|78.66032210834554|\n|                         UA| 78.5860655737705|\n|                         G4|78.29309108295482|\n|                         9E| 77.2605267572555|\n|                         WN|77.04613927298082|\n|                         QX|76.97368421052632|\n|                         OO|76.49106940990278|\n|                         YV|75.54662379421222|\n|                         OH|75.48449612403101|\n|                         NK|74.51322145311488|\n|                         HA|74.39382239382239|\n|                         MQ|73.70005473453749|\n|                         F9|73.58436124936883|\n|                         AS|73.11732504808404|\n|                         AA|72.02508960573478|\n|                         B6|71.80209801158604|\n+---------------------------+-----------------+\nonly showing top 20 rows\n"
     ]
    }
   ],
   "source": [
    "from pyspark.sql.functions import sum, col\n",
    "\n",
    "# Define on-time flights: arrival delay <= 15 min\n",
    "df_ontime = df_silver.withColumn(\"OnTimeArr\", (col(\"ArrDelayMinutes\") <= 15).cast(\"int\"))\n",
    "\n",
    "# Calculate % on-time arrivals by Operating Airline\n",
    "ontime_performance = (\n",
    "    df_ontime.groupBy(\"IATA_Code_Operating_Airline\")\n",
    "    .agg(\n",
    "        (sum(\"OnTimeArr\") / count(\"*\") * 100).alias(\"PctOnTimeArrival\")\n",
    "    )\n",
    "    .orderBy(desc(\"PctOnTimeArrival\"))\n",
    ")\n",
    "\n",
    "ontime_performance.write.format(\"delta\").mode(\"overwrite\").saveAsTable(\"flight_data_db.ontime_performance\")\n",
    "\n",
    "ontime_performance.show()\n"
   ]
  },
  {
   "cell_type": "code",
   "execution_count": 0,
   "metadata": {
    "application/vnd.databricks.v1+cell": {
     "cellMetadata": {
      "byteLimit": 2048000,
      "rowLimit": 10000
     },
     "inputWidgets": {},
     "nuid": "2311acf9-0f38-44a1-9042-5c369251cec8",
     "showTitle": false,
     "tableResultSettingsMap": {},
     "title": ""
    }
   },
   "outputs": [
    {
     "output_type": "stream",
     "name": "stdout",
     "output_type": "stream",
     "text": [
      "+---------------------------+-----+\n|IATA_Code_Operating_Airline|count|\n+---------------------------+-----+\n|                         WN|17447|\n|                         AA|17171|\n|                         DL|10470|\n|                         UA|10450|\n|                         OO|10398|\n|                         B6| 5403|\n|                         NK| 5118|\n|                         MQ| 3844|\n|                         F9| 3662|\n|                         AS| 3634|\n|                         YX| 3093|\n|                         OH| 2783|\n|                         9E| 2711|\n|                         G4| 1816|\n|                         HA| 1658|\n|                         YV| 1521|\n|                         ZW| 1246|\n|                         C5| 1166|\n|                         PT| 1052|\n|                         QX| 1050|\n+---------------------------+-----+\nonly showing top 20 rows\n+------+-----+\n|Origin|count|\n+------+-----+\n|   DFW| 6076|\n|   ORD| 5998|\n|   DEN| 5387|\n|   ATL| 5098|\n|   CLT| 4275|\n|   MCO| 2874|\n|   IAH| 2691|\n|   MIA| 2585|\n|   LAS| 2448|\n|   LAX| 2408|\n|   BOS| 2361|\n|   DTW| 2358|\n|   SEA| 2336|\n|   PHX| 2302|\n|   LGA| 2217|\n|   DCA| 2149|\n|   FLL| 2111|\n|   JFK| 1982|\n|   EWR| 1922|\n|   BWI| 1718|\n+------+-----+\nonly showing top 20 rows\n"
     ]
    }
   ],
   "source": [
    "df_delayed = df_silver.filter(col(\"ArrDelayMinutes\") > 15)\n",
    "\n",
    "# Airlines with most delayed flights\n",
    "repeat_delayed_airlines = (\n",
    "    df_delayed.groupBy(\"IATA_Code_Operating_Airline\")\n",
    "    .count()\n",
    "    .orderBy(desc(\"count\"))\n",
    ")\n",
    "\n",
    "# Airports with most delayed flights\n",
    "repeat_delayed_airports = (\n",
    "    df_delayed.groupBy(\"Origin\")\n",
    "    .count()\n",
    "    .orderBy(desc(\"count\"))\n",
    ")\n",
    "\n",
    "repeat_delayed_airlines.show()\n",
    "repeat_delayed_airports.show()\n"
   ]
  },
  {
   "cell_type": "code",
   "execution_count": 0,
   "metadata": {
    "application/vnd.databricks.v1+cell": {
     "cellMetadata": {
      "byteLimit": 2048000,
      "rowLimit": 10000
     },
     "inputWidgets": {},
     "nuid": "20528c72-1c58-4c35-a979-4addb90788c8",
     "showTitle": false,
     "tableResultSettingsMap": {},
     "title": ""
    }
   },
   "outputs": [],
   "source": [
    "from pyspark.sql.functions import col, count, desc\n",
    "\n",
    "df_delayed = df_silver.filter(col(\"ArrDelayMinutes\") > 15)\n",
    "\n",
    "repeat_delayed_cities = (\n",
    "    df_delayed.groupBy(\"OriginCityName\")\n",
    "    .agg(count(\"*\").alias(\"DelayedFlightCount\"))\n",
    "    .orderBy(desc(\"DelayedFlightCount\"))\n",
    ")\n",
    "repeat_delayed_cities.write.format(\"delta\").mode(\"overwrite\").saveAsTable(\"flight_data_db.repeat_delayed_cities\")\n"
   ]
  },
  {
   "cell_type": "code",
   "execution_count": 0,
   "metadata": {
    "application/vnd.databricks.v1+cell": {
     "cellMetadata": {
      "byteLimit": 2048000,
      "rowLimit": 10000
     },
     "inputWidgets": {},
     "nuid": "29983119-cb20-4c19-b540-3d72f0970e79",
     "showTitle": false,
     "tableResultSettingsMap": {},
     "title": ""
    }
   },
   "outputs": [],
   "source": [
    "gold_delay_dist.write.format(\"delta\").mode(\"overwrite\").saveAsTable(\"flight_data_db.gold_delay_dist\")\n",
    "gold_delay_trend.write.format(\"delta\").mode(\"overwrite\").saveAsTable(\"flight_data_db.gold_delay_trend\")\n",
    "gold_cancellation_reason.write.format(\"delta\").mode(\"overwrite\").saveAsTable(\"flight_data_db.gold_cancellation_reason\")\n",
    "gold_routes.write.format(\"delta\").mode(\"overwrite\").saveAsTable(\"flight_data_db.gold_routes\")\n",
    "gold_geo_delays.write.format(\"delta\").mode(\"overwrite\").saveAsTable(\"flight_data_db.gold_geo_delays\")\n",
    "gold_monthly_metrics.write.format(\"delta\").mode(\"overwrite\").saveAsTable(\"flight_data_db.gold_monthly_metrics\")\n"
   ]
  }
 ],
 "metadata": {
  "application/vnd.databricks.v1+notebook": {
   "computePreferences": null,
   "dashboards": [],
   "environmentMetadata": {
    "base_environment": "",
    "environment_version": "2"
   },
   "inputWidgetPreferences": null,
   "language": "python",
   "notebookMetadata": {
    "mostRecentlyExecutedCommandWithImplicitDF": {
     "commandId": 8108449182318502,
     "dataframes": [
      "_sqldf"
     ]
    },
    "pythonIndentUnit": 4
   },
   "notebookName": "flight_data_etl",
   "widgets": {}
  },
  "language_info": {
   "name": "python"
  }
 },
 "nbformat": 4,
 "nbformat_minor": 0
}